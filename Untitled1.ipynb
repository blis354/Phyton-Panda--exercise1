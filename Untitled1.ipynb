{
 "cells": [
  {
   "cell_type": "markdown",
   "id": "1d700386",
   "metadata": {},
   "source": [
    "Do zadania załączone są 3 pliki CSV:\n",
    "- Zamówienia \n",
    "- Cena bazowa\n",
    "- Wysłane\n",
    "\n",
    "W pliku zamówienia są informacje o zamówieniach klientów w wybranym okresie. W pliku znajdują się kolumny: \n",
    "- order_id – unikalny numer zamówienia\n",
    "-\tclient_id – unikalny numer klienta\n",
    "-\torder_date – data złożenia zamówienia\n",
    "-\tkupon – informacja o tym, czy podczas składania zamówienia klient użył kuponu rabatowego obniżającego cenę bazową; wartość kuponu to procent zniżki od ceny bazowej\n",
    "\n",
    "W pliku Cena bazowa znajdują się informacje o cenie bazowej każdego z produktów.\n",
    "W pliku Wysłane znajdują się informacje o produktach wysłanych ostatecznie do każdego zamówienia. W jednym zamówieniu mogło się znaleźć więcej niż 1 produkt. \n",
    "\n"
   ]
  },
  {
   "cell_type": "code",
   "execution_count": 168,
   "id": "173014cb",
   "metadata": {
    "scrolled": false
   },
   "outputs": [],
   "source": [
    "import numpy as np\n",
    "import pandas as pd\n",
    "import matplotlib.pyplot as plt\n",
    "\n",
    "%matplotlib inline\n",
    "\n",
    "\n",
    "from datetime import datetime\n",
    "dateparse = lambda x: datetime.strptime(x, '%d.%m.%Y')\n",
    "df_order = pd.read_csv('zamowienia.csv' , sep = ';' , parse_dates=['order_date'], date_parser=dateparse)\n",
    "\n",
    "df_shipped= pd.read_csv('wyslane.csv' , sep = ';')\n",
    "\n",
    "df_price=pd.read_csv('cena bazowa.csv' , sep = ';')"
   ]
  },
  {
   "cell_type": "code",
   "execution_count": 169,
   "id": "e1f3f147",
   "metadata": {},
   "outputs": [
    {
     "data": {
      "text/html": [
       "<div>\n",
       "<style scoped>\n",
       "    .dataframe tbody tr th:only-of-type {\n",
       "        vertical-align: middle;\n",
       "    }\n",
       "\n",
       "    .dataframe tbody tr th {\n",
       "        vertical-align: top;\n",
       "    }\n",
       "\n",
       "    .dataframe thead th {\n",
       "        text-align: right;\n",
       "    }\n",
       "</style>\n",
       "<table border=\"1\" class=\"dataframe\">\n",
       "  <thead>\n",
       "    <tr style=\"text-align: right;\">\n",
       "      <th></th>\n",
       "      <th>order_id</th>\n",
       "      <th>client_id</th>\n",
       "      <th>order_date</th>\n",
       "      <th>KUPON</th>\n",
       "    </tr>\n",
       "  </thead>\n",
       "  <tbody>\n",
       "    <tr>\n",
       "      <th>0</th>\n",
       "      <td>1462414</td>\n",
       "      <td>523933015</td>\n",
       "      <td>2019-06-29</td>\n",
       "      <td>NaN</td>\n",
       "    </tr>\n",
       "    <tr>\n",
       "      <th>1</th>\n",
       "      <td>1538139</td>\n",
       "      <td>814107372</td>\n",
       "      <td>2019-08-15</td>\n",
       "      <td>NaN</td>\n",
       "    </tr>\n",
       "    <tr>\n",
       "      <th>2</th>\n",
       "      <td>1838871</td>\n",
       "      <td>713139458</td>\n",
       "      <td>2019-08-19</td>\n",
       "      <td>NaN</td>\n",
       "    </tr>\n",
       "    <tr>\n",
       "      <th>3</th>\n",
       "      <td>1896544</td>\n",
       "      <td>123641536</td>\n",
       "      <td>2019-05-05</td>\n",
       "      <td>15%</td>\n",
       "    </tr>\n",
       "    <tr>\n",
       "      <th>4</th>\n",
       "      <td>1943852</td>\n",
       "      <td>602252913</td>\n",
       "      <td>2019-07-30</td>\n",
       "      <td>NaN</td>\n",
       "    </tr>\n",
       "  </tbody>\n",
       "</table>\n",
       "</div>"
      ],
      "text/plain": [
       "   order_id  client_id order_date KUPON\n",
       "0   1462414  523933015 2019-06-29   NaN\n",
       "1   1538139  814107372 2019-08-15   NaN\n",
       "2   1838871  713139458 2019-08-19   NaN\n",
       "3   1896544  123641536 2019-05-05   15%\n",
       "4   1943852  602252913 2019-07-30   NaN"
      ]
     },
     "execution_count": 169,
     "metadata": {},
     "output_type": "execute_result"
    }
   ],
   "source": [
    "df_order.head()"
   ]
  },
  {
   "cell_type": "code",
   "execution_count": 170,
   "id": "1c99bce0",
   "metadata": {},
   "outputs": [
    {
     "name": "stdout",
     "output_type": "stream",
     "text": [
      "<class 'pandas.core.frame.DataFrame'>\n",
      "RangeIndex: 5023 entries, 0 to 5022\n",
      "Data columns (total 4 columns):\n",
      " #   Column      Non-Null Count  Dtype         \n",
      "---  ------      --------------  -----         \n",
      " 0   order_id    5023 non-null   int64         \n",
      " 1   client_id   5023 non-null   int64         \n",
      " 2   order_date  5023 non-null   datetime64[ns]\n",
      " 3   KUPON       998 non-null    object        \n",
      "dtypes: datetime64[ns](1), int64(2), object(1)\n",
      "memory usage: 157.1+ KB\n"
     ]
    }
   ],
   "source": [
    "df_order.info()"
   ]
  },
  {
   "cell_type": "markdown",
   "id": "ec986d3a",
   "metadata": {},
   "source": [
    "# 1)\tW jakim dniu roku klienci złożyli najwięcej zamówień?\n",
    "\n",
    "odp. 14.08.2019\n"
   ]
  },
  {
   "cell_type": "code",
   "execution_count": 171,
   "id": "feae9bc4",
   "metadata": {},
   "outputs": [
    {
     "data": {
      "text/html": [
       "<div>\n",
       "<style scoped>\n",
       "    .dataframe tbody tr th:only-of-type {\n",
       "        vertical-align: middle;\n",
       "    }\n",
       "\n",
       "    .dataframe tbody tr th {\n",
       "        vertical-align: top;\n",
       "    }\n",
       "\n",
       "    .dataframe thead th {\n",
       "        text-align: right;\n",
       "    }\n",
       "</style>\n",
       "<table border=\"1\" class=\"dataframe\">\n",
       "  <thead>\n",
       "    <tr style=\"text-align: right;\">\n",
       "      <th></th>\n",
       "      <th>order_date</th>\n",
       "      <th>order_value</th>\n",
       "    </tr>\n",
       "  </thead>\n",
       "  <tbody>\n",
       "    <tr>\n",
       "      <th>0</th>\n",
       "      <td>2019-08-14</td>\n",
       "      <td>41</td>\n",
       "    </tr>\n",
       "  </tbody>\n",
       "</table>\n",
       "</div>"
      ],
      "text/plain": [
       "  order_date  order_value\n",
       "0 2019-08-14           41"
      ]
     },
     "execution_count": 171,
     "metadata": {},
     "output_type": "execute_result"
    }
   ],
   "source": [
    "df_order.groupby('order_date')['order_id'].size().nlargest(1).reset_index(name='order_value')                         "
   ]
  },
  {
   "cell_type": "markdown",
   "id": "66ff0199",
   "metadata": {},
   "source": [
    "# 2)\tIlu klientów skorzystało z kuponu rabatowego w trakcie zakupów?\n",
    "\n",
    "odp. 998"
   ]
  },
  {
   "cell_type": "code",
   "execution_count": 172,
   "id": "79b4e7d6",
   "metadata": {},
   "outputs": [
    {
     "data": {
      "text/plain": [
       "client_id\n",
       "165795     1\n",
       "554772     1\n",
       "1653617    1\n",
       "1802561    1\n",
       "2442640    1\n",
       "3255808    1\n",
       "4117165    1\n",
       "5069275    1\n",
       "5461584    1\n",
       "5927105    1\n",
       "Name: KUPON, dtype: int64"
      ]
     },
     "execution_count": 172,
     "metadata": {},
     "output_type": "execute_result"
    }
   ],
   "source": [
    "df_order.groupby('client_id')['KUPON'].count().nlargest(10)"
   ]
  },
  {
   "cell_type": "code",
   "execution_count": 173,
   "id": "793982ce",
   "metadata": {},
   "outputs": [
    {
     "data": {
      "text/plain": [
       "0    4002\n",
       "1     998\n",
       "Name: KUPON, dtype: int64"
      ]
     },
     "execution_count": 173,
     "metadata": {},
     "output_type": "execute_result"
    }
   ],
   "source": [
    "df_order.groupby('client_id')['KUPON'].count().value_counts()"
   ]
  },
  {
   "cell_type": "markdown",
   "id": "c3a94218",
   "metadata": {},
   "source": [
    "# 3)\tIlu klientów zrobiło w analizowanym okresie więcej niż jedno zamówienie?\n",
    "\n",
    "odp. 2 "
   ]
  },
  {
   "cell_type": "code",
   "execution_count": 199,
   "id": "9efa1ef0",
   "metadata": {},
   "outputs": [
    {
     "data": {
      "text/plain": [
       "1    818\n",
       "2      2\n",
       "Name: order_id, dtype: int64"
      ]
     },
     "execution_count": 199,
     "metadata": {},
     "output_type": "execute_result"
    }
   ],
   "source": [
    "df_order[(df_order['order_date']>= '2019-03-01') & (df_order['order_date']< '2019-04-01')].groupby('client_id')['order_id'].count().value_counts()"
   ]
  },
  {
   "cell_type": "markdown",
   "id": "b2d905c1",
   "metadata": {},
   "source": [
    "# 4) Który z produktów cieszył się największym powodzeniem? Ilu klientów kupiło go ze zniżką?\n",
    "\n",
    "odp. Item 4355722, times 11"
   ]
  },
  {
   "cell_type": "code",
   "execution_count": 175,
   "id": "7b573618",
   "metadata": {
    "scrolled": true
   },
   "outputs": [
    {
     "name": "stdout",
     "output_type": "stream",
     "text": [
      "       order_id  item_id_1  item_id_2  item_id_3\n",
      "0     314631735    2655227  9051607.0        NaN\n",
      "1     802224752    1984910  4286301.0        NaN\n",
      "2     716057036    2669985  1052038.0        NaN\n",
      "3     125731133    5966397        NaN        NaN\n",
      "4      12070864    6788106  9643817.0        NaN\n",
      "...         ...        ...        ...        ...\n",
      "3662  552069972    4738768   684194.0  4169115.0\n",
      "3663  408612183    8250741  1005647.0        NaN\n",
      "3664  725171229     152614        NaN        NaN\n",
      "3665   26224680    1971413        NaN        NaN\n",
      "3666  824588700    5801454  2448933.0    52730.0\n",
      "\n",
      "[3667 rows x 4 columns]\n"
     ]
    }
   ],
   "source": [
    "print(df_shipped)"
   ]
  },
  {
   "cell_type": "code",
   "execution_count": 176,
   "id": "af2cd106",
   "metadata": {},
   "outputs": [
    {
     "data": {
      "text/plain": [
       "4355722.0    70\n",
       "4652599.0    65\n",
       "4550408.0    64\n",
       "8368010.0    64\n",
       "4118332.0    62\n",
       "7086540.0    61\n",
       "6612196.0    60\n",
       "1554376.0    59\n",
       "5966397.0    59\n",
       "7015458.0    58\n",
       "Name: order_id, dtype: int64"
      ]
     },
     "execution_count": 176,
     "metadata": {},
     "output_type": "execute_result"
    }
   ],
   "source": [
    "pd.concat([df_shipped.groupby('item_id_1')['order_id'].count(), \n",
    "           df_shipped.groupby('item_id_2')['order_id'].count(),\n",
    "           df_shipped.groupby('item_id_3')['order_id'].count()]).groupby(level=0).sum().nlargest(10)"
   ]
  },
  {
   "cell_type": "code",
   "execution_count": 211,
   "id": "eed2e3a0",
   "metadata": {},
   "outputs": [
    {
     "data": {
      "text/plain": [
       "11"
      ]
     },
     "execution_count": 211,
     "metadata": {},
     "output_type": "execute_result"
    }
   ],
   "source": [
    "Max_Ordered_Item = 4355722\n",
    "#Sort db so that in the columns item_id_1, item_id_2, item_id3 was id Max_Ordered_Item\n",
    "df_with_MOI = pd.concat([df_shipped[df_shipped.item_id_1 == Max_Ordered_Item ],\n",
    "                 df_shipped[df_shipped.item_id_2 == Max_Ordered_Item ],\n",
    "                 df_shipped[df_shipped.item_id_3 == Max_Ordered_Item ]])       \n",
    "df = df_order.merge(df_with_MOI)\n",
    "df['KUPON'].notnull().sum()"
   ]
  },
  {
   "cell_type": "markdown",
   "id": "44f60e5e",
   "metadata": {},
   "source": [
    "# 5)\tKtóry produkt był najczęściej kupowany ze zniżką?\n",
    "\n",
    "odp. 1554376"
   ]
  },
  {
   "cell_type": "code",
   "execution_count": 210,
   "id": "e5bac4fb",
   "metadata": {},
   "outputs": [
    {
     "data": {
      "text/plain": [
       "1554376.0    19\n",
       "9873648.0    17\n",
       "552870.0     16\n",
       "5007446.0    15\n",
       "7642810.0    15\n",
       "Name: order_id, dtype: int64"
      ]
     },
     "execution_count": 210,
     "metadata": {},
     "output_type": "execute_result"
    }
   ],
   "source": [
    "df_Order_with_Shipped=df_order.merge(df_shipped)\n",
    "\n",
    "df = df_Order_with_Shipped.loc[df_Order_with_Shipped['KUPON'].notnull()]\n",
    "\n",
    "pd.concat([df.groupby('item_id_1')['order_id'].count(),\n",
    "           df.groupby('item_id_2')['order_id'].count(),\n",
    "           df.groupby('item_id_3')['order_id'].count()]).groupby(level=0).sum().nlargest(5)\n",
    "\n"
   ]
  },
  {
   "cell_type": "markdown",
   "id": "c0249d07",
   "metadata": {},
   "source": [
    "## 6) Jaka była końcowa wartość wszystkich zamówień w badanym okresie 2019-03-01 - 2019-04-01? \n",
    "\n",
    "odp. 126581.02\n"
   ]
  },
  {
   "cell_type": "code",
   "execution_count": 204,
   "id": "9cc16fc9",
   "metadata": {},
   "outputs": [
    {
     "name": "stdout",
     "output_type": "stream",
     "text": [
      "     order_id  client_id order_date KUPON  item_id_1  item_id_2  item_id_3\n",
      "0     8769369  292592441 2019-03-06   NaN    4355722        NaN        NaN\n",
      "1   128571237  740864406 2019-03-16   20%    9780720  4355722.0        NaN\n",
      "2   145853928  969665107 2019-03-21   NaN    6730346  4355722.0        NaN\n",
      "3   320420558  859010463 2019-03-22   NaN    2050490  4355722.0        NaN\n",
      "4   478959847  762202043 2019-03-29   NaN    4355722        NaN        NaN\n",
      "5   560264746  570627821 2019-03-26   NaN    4355722        NaN        NaN\n",
      "6   580807278  318053487 2019-03-11   NaN    9710873  4355722.0  7482912.0\n",
      "7   668235922  700728646 2019-03-20   31%    4447776  4355722.0        NaN\n",
      "8   692995685  916067289 2019-03-13   NaN    1866996  4355722.0        NaN\n",
      "9   784693931  415669716 2019-03-28   NaN    9643817  4355722.0        NaN\n",
      "10  872825246  549139706 2019-03-23   NaN    4355722        NaN        NaN\n",
      "11  877092857  895450181 2019-03-06   25%    4355722        NaN        NaN\n",
      "12  900771366  484193976 2019-03-11   NaN    1476431  4355722.0  9989669.0\n",
      "13  954675281  561222335 2019-03-07   NaN    4355722        NaN        NaN\n",
      "14  955609101  340588793 2019-03-31   NaN    9022757  4355722.0        NaN\n",
      "15  974122825  962998181 2019-03-14   NaN    5894933  4355722.0        NaN\n"
     ]
    }
   ],
   "source": [
    "df_order_march = pd.merge(df_order[(df_order['order_date']>= '2019-03-01') & (df_order['order_date']< '2019-04-01')], df_shipped)\n",
    "print(db_order_march)"
   ]
  },
  {
   "cell_type": "code",
   "execution_count": 205,
   "id": "0e785b41",
   "metadata": {},
   "outputs": [
    {
     "data": {
      "text/html": [
       "<div>\n",
       "<style scoped>\n",
       "    .dataframe tbody tr th:only-of-type {\n",
       "        vertical-align: middle;\n",
       "    }\n",
       "\n",
       "    .dataframe tbody tr th {\n",
       "        vertical-align: top;\n",
       "    }\n",
       "\n",
       "    .dataframe thead th {\n",
       "        text-align: right;\n",
       "    }\n",
       "</style>\n",
       "<table border=\"1\" class=\"dataframe\">\n",
       "  <thead>\n",
       "    <tr style=\"text-align: right;\">\n",
       "      <th></th>\n",
       "      <th>item_id</th>\n",
       "      <th>base_price</th>\n",
       "    </tr>\n",
       "  </thead>\n",
       "  <tbody>\n",
       "    <tr>\n",
       "      <th>0</th>\n",
       "      <td>7447126</td>\n",
       "      <td>225</td>\n",
       "    </tr>\n",
       "    <tr>\n",
       "      <th>1</th>\n",
       "      <td>2696692</td>\n",
       "      <td>112</td>\n",
       "    </tr>\n",
       "    <tr>\n",
       "      <th>2</th>\n",
       "      <td>2883136</td>\n",
       "      <td>192</td>\n",
       "    </tr>\n",
       "    <tr>\n",
       "      <th>3</th>\n",
       "      <td>1984910</td>\n",
       "      <td>136</td>\n",
       "    </tr>\n",
       "    <tr>\n",
       "      <th>4</th>\n",
       "      <td>2242676</td>\n",
       "      <td>107</td>\n",
       "    </tr>\n",
       "  </tbody>\n",
       "</table>\n",
       "</div>"
      ],
      "text/plain": [
       "   item_id  base_price\n",
       "0  7447126         225\n",
       "1  2696692         112\n",
       "2  2883136         192\n",
       "3  1984910         136\n",
       "4  2242676         107"
      ]
     },
     "execution_count": 205,
     "metadata": {},
     "output_type": "execute_result"
    }
   ],
   "source": [
    "df_price.head()"
   ]
  },
  {
   "cell_type": "code",
   "execution_count": 27,
   "id": "f3a6b0fb",
   "metadata": {},
   "outputs": [],
   "source": [
    "def df_column_switch(df, column1, column2):\n",
    "    i = list(df.columns)\n",
    "    a, b = i.index(column1), i.index(column2)\n",
    "    i[b], i[a] = i[a], i[b]\n",
    "    df = df[i]\n",
    "    return df"
   ]
  },
  {
   "cell_type": "code",
   "execution_count": 215,
   "id": "da9b5314",
   "metadata": {},
   "outputs": [],
   "source": [
    "def df_column_overwrite(df, column1, column2):\n",
    "    c=column2\n",
    "    return df_column_switch(df, column1, column2).rename(columns = { column2 : column1, column1 : c}).drop(columns = { c })\n",
    "   \n",
    "    "
   ]
  },
  {
   "cell_type": "code",
   "execution_count": 221,
   "id": "b098e202",
   "metadata": {},
   "outputs": [
    {
     "name": "stdout",
     "output_type": "stream",
     "text": [
      "      order_id  client_id order_date KUPON  item_id_1  item_id_2  item_id_3\n",
      "0      4858291  608560296 2019-03-31   NaN        184        NaN        NaN\n",
      "1      4932443  314452019 2019-03-31   20%        162        NaN        NaN\n",
      "2      5045375  936096184 2019-03-08   NaN        145      189.0        NaN\n",
      "3      8526443  322183155 2019-03-31   NaN        126        NaN        NaN\n",
      "4      8769369  292592441 2019-03-06   NaN        178        NaN        NaN\n",
      "..         ...        ...        ...   ...        ...        ...        ...\n",
      "604  990151639  308874473 2019-03-03   NaN        123        NaN        NaN\n",
      "605  990921887  760423445 2019-03-27   NaN        238        NaN        NaN\n",
      "606  995877567  302977511 2019-03-16   NaN         68      132.0      208.0\n",
      "607  995972294  836937939 2019-03-07   NaN        168      230.0      107.0\n",
      "608  998934679  450085244 2019-03-28   NaN        136        NaN        NaN\n",
      "\n",
      "[609 rows x 7 columns]\n"
     ]
    }
   ],
   "source": [
    "    df = pd.merge(df_order_march, price , how='left' , left_on='item_id_1' , right_on='item_id')\n",
    "    df = df_column_overwrite(df ,'item_id_1' , 'base_price').drop(columns={'item_id'}) \n",
    "    \n",
    "    df = pd.merge(df, price, how='left', left_on='item_id_2', right_on='item_id')\n",
    "    df = df_column_overwrite(df,'item_id_2' , 'base_price').drop(columns={'item_id'})\n",
    "    \n",
    "    df = pd.merge(df, price, how='left', left_on='item_id_3', right_on='item_id')\n",
    "    df = df_column_overwrite(df , 'item_id_3' , 'base_price').drop(columns={'item_id'})\n",
    "    \n",
    "    print(df)\n",
    "    "
   ]
  },
  {
   "cell_type": "code",
   "execution_count": 222,
   "id": "086bfe48",
   "metadata": {},
   "outputs": [
    {
     "name": "stdout",
     "output_type": "stream",
     "text": [
      "      order_id  client_id order_date  KUPON  item_id_1  item_id_2  item_id_3\n",
      "0      4858291  608560296 2019-03-31    NaN        184        NaN        NaN\n",
      "1      4932443  314452019 2019-03-31    0.2        162        NaN        NaN\n",
      "2      5045375  936096184 2019-03-08    NaN        145      189.0        NaN\n",
      "3      8526443  322183155 2019-03-31    NaN        126        NaN        NaN\n",
      "4      8769369  292592441 2019-03-06    NaN        178        NaN        NaN\n",
      "..         ...        ...        ...    ...        ...        ...        ...\n",
      "604  990151639  308874473 2019-03-03    NaN        123        NaN        NaN\n",
      "605  990921887  760423445 2019-03-27    NaN        238        NaN        NaN\n",
      "606  995877567  302977511 2019-03-16    NaN         68      132.0      208.0\n",
      "607  995972294  836937939 2019-03-07    NaN        168      230.0      107.0\n",
      "608  998934679  450085244 2019-03-28    NaN        136        NaN        NaN\n",
      "\n",
      "[609 rows x 7 columns]\n"
     ]
    }
   ],
   "source": [
    "df['KUPON'] = df['KUPON'].str.rstrip('%').astype('float') / 100.0\n",
    "print(df)"
   ]
  },
  {
   "cell_type": "code",
   "execution_count": 223,
   "id": "bcf8e715",
   "metadata": {},
   "outputs": [
    {
     "name": "stdout",
     "output_type": "stream",
     "text": [
      "      order_id  client_id order_date  KUPON  item_id_1  item_id_2  item_id_3  \\\n",
      "0      4858291  608560296 2019-03-31    NaN        184        NaN        NaN   \n",
      "1      4932443  314452019 2019-03-31    0.2        162        NaN        NaN   \n",
      "2      5045375  936096184 2019-03-08    NaN        145      189.0        NaN   \n",
      "3      8526443  322183155 2019-03-31    NaN        126        NaN        NaN   \n",
      "4      8769369  292592441 2019-03-06    NaN        178        NaN        NaN   \n",
      "..         ...        ...        ...    ...        ...        ...        ...   \n",
      "604  990151639  308874473 2019-03-03    NaN        123        NaN        NaN   \n",
      "605  990921887  760423445 2019-03-27    NaN        238        NaN        NaN   \n",
      "606  995877567  302977511 2019-03-16    NaN         68      132.0      208.0   \n",
      "607  995972294  836937939 2019-03-07    NaN        168      230.0      107.0   \n",
      "608  998934679  450085244 2019-03-28    NaN        136        NaN        NaN   \n",
      "\n",
      "      suma  \n",
      "0    184.0  \n",
      "1    147.2  \n",
      "2    373.0  \n",
      "3    184.0  \n",
      "4    184.0  \n",
      "..     ...  \n",
      "604  168.0  \n",
      "605  122.0  \n",
      "606  462.0  \n",
      "607  489.0  \n",
      "608  238.0  \n",
      "\n",
      "[609 rows x 8 columns]\n"
     ]
    }
   ],
   "source": [
    "df['suma'] = (df5['item_id_1'] + df.fillna(0)['item_id_2'] + df.fillna(0)['item_id_3']) * (1-df.fillna(0)['KUPON'])\n",
    "print(df)"
   ]
  },
  {
   "cell_type": "code",
   "execution_count": 224,
   "id": "a1a3e639",
   "metadata": {},
   "outputs": [
    {
     "data": {
      "text/plain": [
       "126581.02"
      ]
     },
     "execution_count": 224,
     "metadata": {},
     "output_type": "execute_result"
    }
   ],
   "source": [
    "round(df['suma'].sum(),2)"
   ]
  }
 ],
 "metadata": {
  "kernelspec": {
   "display_name": "Python 3 (ipykernel)",
   "language": "python",
   "name": "python3"
  },
  "language_info": {
   "codemirror_mode": {
    "name": "ipython",
    "version": 3
   },
   "file_extension": ".py",
   "mimetype": "text/x-python",
   "name": "python",
   "nbconvert_exporter": "python",
   "pygments_lexer": "ipython3",
   "version": "3.9.12"
  }
 },
 "nbformat": 4,
 "nbformat_minor": 5
}
